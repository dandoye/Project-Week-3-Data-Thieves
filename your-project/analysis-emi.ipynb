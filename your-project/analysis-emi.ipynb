{
 "cells": [
  {
   "cell_type": "markdown",
   "metadata": {},
   "source": [
    "# IMPORT LIBRARIES"
   ]
  },
  {
   "cell_type": "code",
   "execution_count": 2,
   "metadata": {},
   "outputs": [],
   "source": [
    "import pandas as pd\n",
    "import numpy as np\n",
    "import re\n",
    "import spotipy\n",
    "from spotipy.oauth2 import SpotifyClientCredentials\n",
    "from pandas.io.json import json_normalize\n",
    "import requests\n",
    "from bs4 import BeautifulSoup"
   ]
  },
  {
   "cell_type": "markdown",
   "metadata": {},
   "source": [
    "# ACCESS SPOTIFY API"
   ]
  },
  {
   "cell_type": "code",
   "execution_count": 2,
   "metadata": {},
   "outputs": [],
   "source": [
    "cid =\"53af5d19b4f54767af1e9c59744bbd30\" \n",
    "secret = \"e7c9ab58bf324c5d95e8b8e2ff6c7336\"\n",
    "\n",
    "client_credentials_manager = SpotifyClientCredentials(client_id=cid, client_secret=secret) \n",
    "sp = spotipy.Spotify(client_credentials_manager=client_credentials_manager)"
   ]
  },
  {
   "cell_type": "markdown",
   "metadata": {},
   "source": [
    "# QUERY - Top Cities Who Listen to Artist"
   ]
  },
  {
   "cell_type": "code",
   "execution_count": 3,
   "metadata": {},
   "outputs": [
    {
     "name": "stdout",
     "output_type": "stream",
     "text": [
      "Link to Artist Biography: https://open.spotify.com/artist/2s4tjL6W3qrblOe0raIzwJ/about\n"
     ]
    },
    {
     "data": {
      "text/plain": [
       "['Chicago, US',\n",
       " 'Mexico City, MX',\n",
       " 'New York City, US',\n",
       " 'Los Angeles, US',\n",
       " 'Stockholm, SE']"
      ]
     },
     "execution_count": 3,
     "metadata": {},
     "output_type": "execute_result"
    }
   ],
   "source": [
    "enter_artist = 'yoko ono'\n",
    "\n",
    "results = sp.search(q='artist:' + enter_artist, type='artist')\n",
    "if results['artists']['items'] == []:\n",
    "    print('no match')\n",
    "else:\n",
    "    two_dict = results['artists']['items'][0]['external_urls']['spotify']\n",
    "    about = two_dict + \"/about\"\n",
    "print(\"Link to Artist Biography: \" + about)\n",
    "\n",
    "html = requests.get(about).content\n",
    "soup = BeautifulSoup(html, \"lxml\")\n",
    "soup.ul.li.span\n",
    "\n",
    "city = [x.text.strip() for x in soup.find_all('span', attrs = {\"class\" : \"horizontal-list__item__title\"})]\n",
    "city"
   ]
  },
  {
   "cell_type": "markdown",
   "metadata": {},
   "source": [
    "# QUERY - Monthly Listeners of Artist"
   ]
  },
  {
   "cell_type": "code",
   "execution_count": 4,
   "metadata": {},
   "outputs": [
    {
     "data": {
      "text/plain": [
       "'1,074,357'"
      ]
     },
     "execution_count": 4,
     "metadata": {},
     "output_type": "execute_result"
    }
   ],
   "source": [
    "listeners = (soup.find_all('h3', attrs = {\"class\" : \"insights__column__number\"})[0]).text.strip()\n",
    "listeners"
   ]
  },
  {
   "cell_type": "markdown",
   "metadata": {},
   "source": [
    "# QUERY - Followers of Artist"
   ]
  },
  {
   "cell_type": "code",
   "execution_count": 5,
   "metadata": {},
   "outputs": [
    {
     "data": {
      "text/plain": [
       "'58,558'"
      ]
     },
     "execution_count": 5,
     "metadata": {},
     "output_type": "execute_result"
    }
   ],
   "source": [
    "followers = (soup.find_all('h3', attrs = {\"class\" : \"insights__column__number\"})[1]).text.strip()\n",
    "followers"
   ]
  },
  {
   "cell_type": "markdown",
   "metadata": {},
   "source": [
    "# ...TEST LIST"
   ]
  },
  {
   "cell_type": "code",
   "execution_count": 6,
   "metadata": {},
   "outputs": [],
   "source": [
    "top_artists = ['the beatles', 'dj shadow', 'david bowie', 'the cure', 'nina simone']"
   ]
  },
  {
   "cell_type": "markdown",
   "metadata": {},
   "source": [
    "# LOOP - Cities"
   ]
  },
  {
   "cell_type": "code",
   "execution_count": 7,
   "metadata": {},
   "outputs": [
    {
     "name": "stdout",
     "output_type": "stream",
     "text": [
      "[['Mexico City, MX', 'São Paulo, BR', 'Santiago, CL', 'Chicago, US', 'Los Angeles, US'], ['Mexico City, MX', 'Los Angeles, US', 'Chicago, US', 'New York City, US', 'London, GB'], ['Mexico City, MX', 'São Paulo, BR', 'Santiago, CL', 'Paris, FR', 'Los Angeles, US'], ['Mexico City, MX', 'Santiago, CL', 'São Paulo, BR', 'Buenos Aires, AR', 'Los Angeles, US'], ['Paris, FR', 'São Paulo, BR', 'Mexico City, MX', 'London, GB', 'Madrid, ES']]\n"
     ]
    }
   ],
   "source": [
    "def get_cities(enter_artist):\n",
    "    results = sp.search(q='artist:' + enter_artist, type='artist')\n",
    "    if results['artists']['items'] == []:\n",
    "        return 'NO MATCH'\n",
    "    else:\n",
    "        two_dict = results['artists']['items'][0]['external_urls']['spotify']\n",
    "        about = two_dict + \"/about\"\n",
    "        html = requests.get(about).content\n",
    "        soup = BeautifulSoup(html, \"lxml\")\n",
    "        city = [x.text.strip() for x in soup.find_all('span', attrs = {\"class\" : \"horizontal-list__item__title\"})]\n",
    "        return city\n",
    "\n",
    "print(list(map(get_cities, top_artists)))"
   ]
  },
  {
   "cell_type": "markdown",
   "metadata": {},
   "source": [
    "# LOOP - Listeners"
   ]
  },
  {
   "cell_type": "code",
   "execution_count": 8,
   "metadata": {},
   "outputs": [
    {
     "name": "stdout",
     "output_type": "stream",
     "text": [
      "['20,558,219', '1,524,103', '12,609,061', '8,771,482', '4,665,980']\n"
     ]
    }
   ],
   "source": [
    "def get_listeners(enter_artist):\n",
    "    results = sp.search(q='artist:' + enter_artist, type='artist')\n",
    "    if results['artists']['items'] == []:\n",
    "        return 'NO MATCH'\n",
    "    else:\n",
    "        two_dict = results['artists']['items'][0]['external_urls']['spotify']\n",
    "        about = two_dict + \"/about\"\n",
    "        html = requests.get(about).content\n",
    "        soup = BeautifulSoup(html, \"lxml\")\n",
    "    listeners = (soup.find_all('h3', attrs = {\"class\" : \"insights__column__number\"})[0]).text.strip()\n",
    "    return listeners\n",
    "\n",
    "print(list(map(get_listeners, top_artists)))"
   ]
  },
  {
   "cell_type": "markdown",
   "metadata": {},
   "source": [
    "# LOOP - Followers"
   ]
  },
  {
   "cell_type": "code",
   "execution_count": 9,
   "metadata": {},
   "outputs": [
    {
     "name": "stdout",
     "output_type": "stream",
     "text": [
      "['14,003,775', '343,945', '4,664,781', '2,227,529', '1,475,175']\n"
     ]
    }
   ],
   "source": [
    "def get_followers(enter_artist):\n",
    "    results = sp.search(q='artist:' + enter_artist, type='artist')\n",
    "    if results['artists']['items'] == []:\n",
    "        return 'NO MATCH'\n",
    "    else:\n",
    "        two_dict = results['artists']['items'][0]['external_urls']['spotify']\n",
    "        about = two_dict + \"/about\"\n",
    "        html = requests.get(about).content\n",
    "        soup = BeautifulSoup(html, \"lxml\")\n",
    "    followers = (soup.find_all('h3', attrs = {\"class\" : \"insights__column__number\"})[1]).text.strip()\n",
    "    return followers\n",
    "\n",
    "print(list(map(get_followers, top_artists)))"
   ]
  },
  {
   "cell_type": "markdown",
   "metadata": {},
   "source": [
    "# ------------------------------------------------------------------------------------------------------------"
   ]
  },
  {
   "cell_type": "markdown",
   "metadata": {},
   "source": [
    "# PITCHFORK DATA"
   ]
  },
  {
   "cell_type": "code",
   "execution_count": 3,
   "metadata": {},
   "outputs": [
    {
     "data": {
      "text/html": [
       "<div>\n",
       "<style scoped>\n",
       "    .dataframe tbody tr th:only-of-type {\n",
       "        vertical-align: middle;\n",
       "    }\n",
       "\n",
       "    .dataframe tbody tr th {\n",
       "        vertical-align: top;\n",
       "    }\n",
       "\n",
       "    .dataframe thead th {\n",
       "        text-align: right;\n",
       "    }\n",
       "</style>\n",
       "<table border=\"1\" class=\"dataframe\">\n",
       "  <thead>\n",
       "    <tr style=\"text-align: right;\">\n",
       "      <th></th>\n",
       "      <th>id</th>\n",
       "      <th>artist</th>\n",
       "      <th>content</th>\n",
       "      <th>genre</th>\n",
       "      <th>label</th>\n",
       "      <th>album</th>\n",
       "      <th>score</th>\n",
       "      <th>best_new_music</th>\n",
       "      <th>author</th>\n",
       "      <th>pub_date</th>\n",
       "      <th>year</th>\n",
       "    </tr>\n",
       "  </thead>\n",
       "  <tbody>\n",
       "    <tr>\n",
       "      <td>7325</td>\n",
       "      <td>15957</td>\n",
       "      <td>talk talk</td>\n",
       "      <td>There are many ways for a band to follow up a ...</td>\n",
       "      <td>rock</td>\n",
       "      <td>ba da bing!</td>\n",
       "      <td>laughing stock</td>\n",
       "      <td>10.0</td>\n",
       "      <td>1</td>\n",
       "      <td>jess harvell</td>\n",
       "      <td>2011-10-21</td>\n",
       "      <td>2011</td>\n",
       "    </tr>\n",
       "    <tr>\n",
       "      <td>2419</td>\n",
       "      <td>20483</td>\n",
       "      <td>the rolling stones</td>\n",
       "      <td>The story of the Baby Boomers, and their movem...</td>\n",
       "      <td>rock</td>\n",
       "      <td>rolling stones</td>\n",
       "      <td>sticky fingers</td>\n",
       "      <td>10.0</td>\n",
       "      <td>1</td>\n",
       "      <td>mark richardson</td>\n",
       "      <td>2015-06-19</td>\n",
       "      <td>1971</td>\n",
       "    </tr>\n",
       "    <tr>\n",
       "      <td>9647</td>\n",
       "      <td>14288</td>\n",
       "      <td>the cure</td>\n",
       "      <td>The late 1980s and early 90s were the Cure's h...</td>\n",
       "      <td>rock</td>\n",
       "      <td>rhino</td>\n",
       "      <td>disintegration [deluxe edition]</td>\n",
       "      <td>10.0</td>\n",
       "      <td>1</td>\n",
       "      <td>nitsuh abebe</td>\n",
       "      <td>2010-06-10</td>\n",
       "      <td>2010</td>\n",
       "    </tr>\n",
       "    <tr>\n",
       "      <td>4008</td>\n",
       "      <td>19240</td>\n",
       "      <td>mobb deep</td>\n",
       "      <td>The foreboding, faraway skree announcing Mobb ...</td>\n",
       "      <td>rap</td>\n",
       "      <td>self-released</td>\n",
       "      <td>the infamous</td>\n",
       "      <td>10.0</td>\n",
       "      <td>1</td>\n",
       "      <td>jayson greene</td>\n",
       "      <td>2014-04-09</td>\n",
       "      <td>2014</td>\n",
       "    </tr>\n",
       "    <tr>\n",
       "      <td>4007</td>\n",
       "      <td>19240</td>\n",
       "      <td>mobb deep</td>\n",
       "      <td>The foreboding, faraway skree announcing Mobb ...</td>\n",
       "      <td>rap</td>\n",
       "      <td>self-released</td>\n",
       "      <td>the infamous</td>\n",
       "      <td>10.0</td>\n",
       "      <td>1</td>\n",
       "      <td>jayson greene</td>\n",
       "      <td>2014-04-09</td>\n",
       "      <td>1995</td>\n",
       "    </tr>\n",
       "    <tr>\n",
       "      <td>...</td>\n",
       "      <td>...</td>\n",
       "      <td>...</td>\n",
       "      <td>...</td>\n",
       "      <td>...</td>\n",
       "      <td>...</td>\n",
       "      <td>...</td>\n",
       "      <td>...</td>\n",
       "      <td>...</td>\n",
       "      <td>...</td>\n",
       "      <td>...</td>\n",
       "      <td>...</td>\n",
       "    </tr>\n",
       "    <tr>\n",
       "      <td>15772</td>\n",
       "      <td>9464</td>\n",
       "      <td>jet</td>\n",
       "      <td>NaN</td>\n",
       "      <td>electronic</td>\n",
       "      <td>elektra</td>\n",
       "      <td>shine on</td>\n",
       "      <td>0.0</td>\n",
       "      <td>0</td>\n",
       "      <td>ray suzuki</td>\n",
       "      <td>2006-10-02</td>\n",
       "      <td>2006</td>\n",
       "    </tr>\n",
       "    <tr>\n",
       "      <td>20859</td>\n",
       "      <td>6255</td>\n",
       "      <td>liz phair</td>\n",
       "      <td>It could be said that Liz Phair's greatest ass...</td>\n",
       "      <td>rock</td>\n",
       "      <td>capitol</td>\n",
       "      <td>liz phair</td>\n",
       "      <td>0.0</td>\n",
       "      <td>0</td>\n",
       "      <td>matt lemay</td>\n",
       "      <td>2003-06-24</td>\n",
       "      <td>2003</td>\n",
       "    </tr>\n",
       "    <tr>\n",
       "      <td>15771</td>\n",
       "      <td>9464</td>\n",
       "      <td>jet</td>\n",
       "      <td>NaN</td>\n",
       "      <td>rock</td>\n",
       "      <td>elektra</td>\n",
       "      <td>shine on</td>\n",
       "      <td>0.0</td>\n",
       "      <td>0</td>\n",
       "      <td>ray suzuki</td>\n",
       "      <td>2006-10-02</td>\n",
       "      <td>2006</td>\n",
       "    </tr>\n",
       "    <tr>\n",
       "      <td>18985</td>\n",
       "      <td>5607</td>\n",
       "      <td>travis morrison</td>\n",
       "      <td>Travis Morrison got his ass kicked.  He tells ...</td>\n",
       "      <td>pop/r&amp;b</td>\n",
       "      <td>barsuk</td>\n",
       "      <td>travistan</td>\n",
       "      <td>0.0</td>\n",
       "      <td>0</td>\n",
       "      <td>chris dahlen</td>\n",
       "      <td>2004-09-27</td>\n",
       "      <td>2004</td>\n",
       "    </tr>\n",
       "    <tr>\n",
       "      <td>23457</td>\n",
       "      <td>7342</td>\n",
       "      <td>sonic youth</td>\n",
       "      <td>No, I have not forgotten to put the numbers in...</td>\n",
       "      <td>rock</td>\n",
       "      <td>geffen</td>\n",
       "      <td>nyc ghosts &amp; flowers</td>\n",
       "      <td>0.0</td>\n",
       "      <td>0</td>\n",
       "      <td>brent dicrescenzo</td>\n",
       "      <td>2000-04-30</td>\n",
       "      <td>2000</td>\n",
       "    </tr>\n",
       "  </tbody>\n",
       "</table>\n",
       "<p>23712 rows × 11 columns</p>\n",
       "</div>"
      ],
      "text/plain": [
       "          id              artist  \\\n",
       "7325   15957           talk talk   \n",
       "2419   20483  the rolling stones   \n",
       "9647   14288            the cure   \n",
       "4008   19240           mobb deep   \n",
       "4007   19240           mobb deep   \n",
       "...      ...                 ...   \n",
       "15772   9464                 jet   \n",
       "20859   6255           liz phair   \n",
       "15771   9464                 jet   \n",
       "18985   5607     travis morrison   \n",
       "23457   7342         sonic youth   \n",
       "\n",
       "                                                 content       genre  \\\n",
       "7325   There are many ways for a band to follow up a ...        rock   \n",
       "2419   The story of the Baby Boomers, and their movem...        rock   \n",
       "9647   The late 1980s and early 90s were the Cure's h...        rock   \n",
       "4008   The foreboding, faraway skree announcing Mobb ...         rap   \n",
       "4007   The foreboding, faraway skree announcing Mobb ...         rap   \n",
       "...                                                  ...         ...   \n",
       "15772                                                NaN  electronic   \n",
       "20859  It could be said that Liz Phair's greatest ass...        rock   \n",
       "15771                                                NaN        rock   \n",
       "18985  Travis Morrison got his ass kicked.  He tells ...     pop/r&b   \n",
       "23457  No, I have not forgotten to put the numbers in...        rock   \n",
       "\n",
       "                label                            album  score  best_new_music  \\\n",
       "7325      ba da bing!                   laughing stock   10.0               1   \n",
       "2419   rolling stones                   sticky fingers   10.0               1   \n",
       "9647            rhino  disintegration [deluxe edition]   10.0               1   \n",
       "4008    self-released                     the infamous   10.0               1   \n",
       "4007    self-released                     the infamous   10.0               1   \n",
       "...               ...                              ...    ...             ...   \n",
       "15772         elektra                         shine on    0.0               0   \n",
       "20859         capitol                        liz phair    0.0               0   \n",
       "15771         elektra                         shine on    0.0               0   \n",
       "18985          barsuk                        travistan    0.0               0   \n",
       "23457          geffen             nyc ghosts & flowers    0.0               0   \n",
       "\n",
       "                  author    pub_date  year  \n",
       "7325        jess harvell  2011-10-21  2011  \n",
       "2419     mark richardson  2015-06-19  1971  \n",
       "9647        nitsuh abebe  2010-06-10  2010  \n",
       "4008       jayson greene  2014-04-09  2014  \n",
       "4007       jayson greene  2014-04-09  1995  \n",
       "...                  ...         ...   ...  \n",
       "15772         ray suzuki  2006-10-02  2006  \n",
       "20859         matt lemay  2003-06-24  2003  \n",
       "15771         ray suzuki  2006-10-02  2006  \n",
       "18985       chris dahlen  2004-09-27  2004  \n",
       "23457  brent dicrescenzo  2000-04-30  2000  \n",
       "\n",
       "[23712 rows x 11 columns]"
      ]
     },
     "execution_count": 3,
     "metadata": {},
     "output_type": "execute_result"
    }
   ],
   "source": [
    "pitchfork = pd.read_csv('pitchfork.csv')\n",
    "pitchfork.sort_values('score', ascending = False)"
   ]
  },
  {
   "cell_type": "markdown",
   "metadata": {},
   "source": [
    "# GENRE vs. SCORE"
   ]
  },
  {
   "cell_type": "code",
   "execution_count": null,
   "metadata": {},
   "outputs": [],
   "source": [
    "genre_score = pitchfork[[\"genre\",\"score\",\"best_new_music\"]]\n",
    "genre_score_agg = ((genre_score.groupby('genre')).agg(['mean'])).sort_values(('best_new_music', 'mean'), ascending=False)\n",
    "genre_score_agg"
   ]
  },
  {
   "cell_type": "code",
   "execution_count": 13,
   "metadata": {
    "scrolled": true
   },
   "outputs": [
    {
     "data": {
      "text/plain": [
       "['m83',\n",
       " 'kanye west',\n",
       " 'lcd soundsystem',\n",
       " 'saint etienne',\n",
       " 'm.i.a.',\n",
       " 'spiritualized',\n",
       " 'animal collective',\n",
       " 'the knife',\n",
       " 'the velvet underground',\n",
       " 'r.e.m.',\n",
       " 'beach house',\n",
       " 'jawbreaker',\n",
       " 'how to dress well',\n",
       " 'john lennon',\n",
       " 'ride',\n",
       " 'menomena',\n",
       " 'bikini kill',\n",
       " 'yoko ono',\n",
       " 'beastie boys',\n",
       " 'burial',\n",
       " 'miles davis',\n",
       " 'oneohtrix point never',\n",
       " 'the smashing pumpkins',\n",
       " 'drake',\n",
       " 'kendrick lamar',\n",
       " 'deerhunter',\n",
       " 'caribou',\n",
       " 'janelle mone',\n",
       " 'sufjan stevens',\n",
       " 'my bloody valentine',\n",
       " 'memory tapes',\n",
       " 'jay z',\n",
       " 'robyn',\n",
       " 'fleetwood mac',\n",
       " 'the unicorns',\n",
       " 'radiohead',\n",
       " 'the antlers',\n",
       " 'cut copy',\n",
       " 'liars',\n",
       " 'sunset rubdown',\n",
       " 'art of noise',\n",
       " 'david bowie',\n",
       " 'grandaddy',\n",
       " 'throbbing gristle',\n",
       " 'deerhoof',\n",
       " 'the decemberists',\n",
       " 'nick cave & the bad seeds']"
      ]
     },
     "execution_count": 13,
     "metadata": {},
     "output_type": "execute_result"
    }
   ],
   "source": [
    "pitchfork['best_new_music'].sum()\n",
    "\n",
    "in_best = pitchfork[pitchfork[\"best_new_music\"] == 1]\n",
    "artists_in_best = in_best[[\"artist\",\"best_new_music\"]]\n",
    "artists_best_count = (artists_in_best.groupby('artist').agg([sum])).sort_values(('best_new_music', 'sum'), ascending = False)\n",
    "over_5 = artists_best_count[artists_best_count[(\"best_new_music\",\"sum\")] >= 5]\n",
    "artist_list = [x for x in over_5.index]\n",
    "artist_list"
   ]
  },
  {
   "cell_type": "code",
   "execution_count": null,
   "metadata": {},
   "outputs": [],
   "source": [
    "list(map(get_listeners, artist_list))"
   ]
  },
  {
   "cell_type": "code",
   "execution_count": 9,
   "metadata": {},
   "outputs": [
    {
     "data": {
      "text/html": [
       "<div>\n",
       "<style scoped>\n",
       "    .dataframe tbody tr th:only-of-type {\n",
       "        vertical-align: middle;\n",
       "    }\n",
       "\n",
       "    .dataframe tbody tr th {\n",
       "        vertical-align: top;\n",
       "    }\n",
       "\n",
       "    .dataframe thead th {\n",
       "        text-align: right;\n",
       "    }\n",
       "</style>\n",
       "<table border=\"1\" class=\"dataframe\">\n",
       "  <thead>\n",
       "    <tr style=\"text-align: right;\">\n",
       "      <th></th>\n",
       "      <th>genre</th>\n",
       "      <th>score</th>\n",
       "      <th>best_new_music</th>\n",
       "      <th>year</th>\n",
       "    </tr>\n",
       "  </thead>\n",
       "  <tbody>\n",
       "    <tr>\n",
       "      <td>0</td>\n",
       "      <td>electronic</td>\n",
       "      <td>9.3</td>\n",
       "      <td>0</td>\n",
       "      <td>1998</td>\n",
       "    </tr>\n",
       "    <tr>\n",
       "      <td>1</td>\n",
       "      <td>metal</td>\n",
       "      <td>7.9</td>\n",
       "      <td>0</td>\n",
       "      <td>2016</td>\n",
       "    </tr>\n",
       "    <tr>\n",
       "      <td>2</td>\n",
       "      <td>rock</td>\n",
       "      <td>7.3</td>\n",
       "      <td>0</td>\n",
       "      <td>2016</td>\n",
       "    </tr>\n",
       "    <tr>\n",
       "      <td>3</td>\n",
       "      <td>rock</td>\n",
       "      <td>7.3</td>\n",
       "      <td>0</td>\n",
       "      <td>2016</td>\n",
       "    </tr>\n",
       "    <tr>\n",
       "      <td>4</td>\n",
       "      <td>rock</td>\n",
       "      <td>9.0</td>\n",
       "      <td>1</td>\n",
       "      <td>2016</td>\n",
       "    </tr>\n",
       "  </tbody>\n",
       "</table>\n",
       "</div>"
      ],
      "text/plain": [
       "        genre  score  best_new_music  year\n",
       "0  electronic    9.3               0  1998\n",
       "1       metal    7.9               0  2016\n",
       "2        rock    7.3               0  2016\n",
       "3        rock    7.3               0  2016\n",
       "4        rock    9.0               1  2016"
      ]
     },
     "execution_count": 9,
     "metadata": {},
     "output_type": "execute_result"
    }
   ],
   "source": [
    "genre_best_new = pitchfork[[\"genre\",\"score\",\"best_new_music\",\"year\"]]\n",
    "genre_best_new.head()"
   ]
  },
  {
   "cell_type": "code",
   "execution_count": null,
   "metadata": {},
   "outputs": [],
   "source": [
    "genre_score_agg = ((genre_score.groupby('genre')).agg(['mean'])).sort_values(('best_new_music', 'mean'), ascending=False)\n",
    "genre_score_agg"
   ]
  }
 ],
 "metadata": {
  "kernelspec": {
   "display_name": "Python 3",
   "language": "python",
   "name": "python3"
  },
  "language_info": {
   "codemirror_mode": {
    "name": "ipython",
    "version": 3
   },
   "file_extension": ".py",
   "mimetype": "text/x-python",
   "name": "python",
   "nbconvert_exporter": "python",
   "pygments_lexer": "ipython3",
   "version": "3.7.4"
  }
 },
 "nbformat": 4,
 "nbformat_minor": 2
}
