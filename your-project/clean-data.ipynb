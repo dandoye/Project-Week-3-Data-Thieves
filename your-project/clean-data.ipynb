{
 "cells": [
  {
   "cell_type": "markdown",
   "metadata": {},
   "source": [
    "# IMPORT LIBRARIES"
   ]
  },
  {
   "cell_type": "code",
   "execution_count": 1,
   "metadata": {},
   "outputs": [],
   "source": [
    "import pandas as pd\n",
    "import numpy as np\n",
    "import re"
   ]
  },
  {
   "cell_type": "markdown",
   "metadata": {},
   "source": [
    "# CONVERT FROM SQLITE TO DATAFRAME"
   ]
  },
  {
   "cell_type": "code",
   "execution_count": 10,
   "metadata": {},
   "outputs": [
    {
     "ename": "OperationalError",
     "evalue": "no such table: content",
     "output_type": "error",
     "traceback": [
      "\u001b[0;31m---------------------------------------------------------------------------\u001b[0m",
      "\u001b[0;31mOperationalError\u001b[0m                          Traceback (most recent call last)",
      "\u001b[0;32m<ipython-input-10-e7fddbc4e97d>\u001b[0m in \u001b[0;36m<module>\u001b[0;34m\u001b[0m\n\u001b[1;32m      4\u001b[0m \u001b[0;34m\u001b[0m\u001b[0m\n\u001b[1;32m      5\u001b[0m \u001b[0;31m#artists = [row for row in c.execute('SELECT * FROM artists')]\u001b[0m\u001b[0;34m\u001b[0m\u001b[0;34m\u001b[0m\u001b[0;34m\u001b[0m\u001b[0m\n\u001b[0;32m----> 6\u001b[0;31m \u001b[0mcontent\u001b[0m \u001b[0;34m=\u001b[0m \u001b[0;34m[\u001b[0m\u001b[0mrow\u001b[0m \u001b[0;32mfor\u001b[0m \u001b[0mrow\u001b[0m \u001b[0;32min\u001b[0m \u001b[0mc\u001b[0m\u001b[0;34m.\u001b[0m\u001b[0mexecute\u001b[0m\u001b[0;34m(\u001b[0m\u001b[0;34m'SELECT * FROM content'\u001b[0m\u001b[0;34m)\u001b[0m\u001b[0;34m]\u001b[0m\u001b[0;34m\u001b[0m\u001b[0;34m\u001b[0m\u001b[0m\n\u001b[0m\u001b[1;32m      7\u001b[0m \u001b[0mgenres\u001b[0m \u001b[0;34m=\u001b[0m \u001b[0;34m[\u001b[0m\u001b[0mrow\u001b[0m \u001b[0;32mfor\u001b[0m \u001b[0mrow\u001b[0m \u001b[0;32min\u001b[0m \u001b[0mc\u001b[0m\u001b[0;34m.\u001b[0m\u001b[0mexecute\u001b[0m\u001b[0;34m(\u001b[0m\u001b[0;34m'SELECT * FROM genres'\u001b[0m\u001b[0;34m)\u001b[0m\u001b[0;34m]\u001b[0m\u001b[0;34m\u001b[0m\u001b[0;34m\u001b[0m\u001b[0m\n\u001b[1;32m      8\u001b[0m \u001b[0mlabels\u001b[0m \u001b[0;34m=\u001b[0m \u001b[0;34m[\u001b[0m\u001b[0mrow\u001b[0m \u001b[0;32mfor\u001b[0m \u001b[0mrow\u001b[0m \u001b[0;32min\u001b[0m \u001b[0mc\u001b[0m\u001b[0;34m.\u001b[0m\u001b[0mexecute\u001b[0m\u001b[0;34m(\u001b[0m\u001b[0;34m'SELECT * FROM labels'\u001b[0m\u001b[0;34m)\u001b[0m\u001b[0;34m]\u001b[0m\u001b[0;34m\u001b[0m\u001b[0;34m\u001b[0m\u001b[0m\n",
      "\u001b[0;31mOperationalError\u001b[0m: no such table: content"
     ]
    }
   ],
   "source": [
    "import sqlite3;\n",
    "conn = sqlite3.connect(\"/Users/juliette/Documents/Ironhack_Project/Webscraping_Project/Project-Week-3-Data-Thieves/your-project/database.sqlite\")\n",
    "c = conn.cursor()\n",
    "\n",
    "artists = [row for row in c.execute('SELECT * FROM artists')]\n",
    "content = [row for row in c.execute('SELECT * FROM content')]\n",
    "genres = [row for row in c.execute('SELECT * FROM genres')]\n",
    "labels = [row for row in c.execute('SELECT * FROM labels')]\n",
    "reviews = [row for row in c.execute('SELECT * FROM reviews')]\n",
    "years = [row for row in c.execute('SELECT * FROM years')]\n",
    "\n",
    "artists_df = pd.DataFrame(artists)\n",
    "content_df = pd.DataFrame(content)\n",
    "genres_df = pd.DataFrame(genres)\n",
    "labels_df = pd.DataFrame(labels)\n",
    "reviews_df = pd.DataFrame(reviews)\n",
    "years_df = pd.DataFrame(years)\n",
    "\n",
    "from functools import partial, reduce\n",
    "\n",
    "dfs = [artists_df, content_df, genres_df, labels_df, reviews_df, years_df]\n",
    "merge = partial(pd.merge, on=[0], how='outer')\n",
    "pitchfork_all = reduce(merge, dfs)\n",
    "\n",
    "pitchfork_all.columns = [\"id\", \"artist\", \"content\", \"genre\", \"label\", \"album\", \"reviewed_artist\", \"url\", \"score\", \"best_new_music\", \"author\", \"author_type\", \"pub_date\", \"pub_weekday\", \"pub_day\", \"pub_month\", \"pub_year\", \"year\"]\n",
    "\n",
    "pitchfork_all.sort_values('artist', ascending=True)"
   ]
  },
  {
   "cell_type": "markdown",
   "metadata": {},
   "source": [
    "# DATA CLEANING"
   ]
  },
  {
   "cell_type": "code",
   "execution_count": 3,
   "metadata": {},
   "outputs": [
    {
     "ename": "NameError",
     "evalue": "name 'pitchfork_all' is not defined",
     "output_type": "error",
     "traceback": [
      "\u001b[0;31m---------------------------------------------------------------------------\u001b[0m",
      "\u001b[0;31mNameError\u001b[0m                                 Traceback (most recent call last)",
      "\u001b[0;32m<ipython-input-3-0089cdb5b9ea>\u001b[0m in \u001b[0;36m<module>\u001b[0;34m\u001b[0m\n\u001b[1;32m      1\u001b[0m \u001b[0;31m# Removing unneeded columns\u001b[0m\u001b[0;34m\u001b[0m\u001b[0;34m\u001b[0m\u001b[0;34m\u001b[0m\u001b[0m\n\u001b[1;32m      2\u001b[0m \u001b[0mdrop\u001b[0m \u001b[0;34m=\u001b[0m \u001b[0;34m[\u001b[0m\u001b[0;34m'reviewed_artist'\u001b[0m\u001b[0;34m,\u001b[0m \u001b[0;34m'author_type'\u001b[0m\u001b[0;34m,\u001b[0m \u001b[0;34m'url'\u001b[0m\u001b[0;34m,\u001b[0m \u001b[0;34m'pub_weekday'\u001b[0m\u001b[0;34m,\u001b[0m \u001b[0;34m'pub_day'\u001b[0m\u001b[0;34m,\u001b[0m \u001b[0;34m'pub_month'\u001b[0m\u001b[0;34m,\u001b[0m \u001b[0;34m'pub_year'\u001b[0m\u001b[0;34m]\u001b[0m\u001b[0;34m\u001b[0m\u001b[0;34m\u001b[0m\u001b[0m\n\u001b[0;32m----> 3\u001b[0;31m \u001b[0mpitchfork\u001b[0m \u001b[0;34m=\u001b[0m \u001b[0mpitchfork_all\u001b[0m\u001b[0;34m.\u001b[0m\u001b[0mdrop\u001b[0m\u001b[0;34m(\u001b[0m\u001b[0mdrop\u001b[0m\u001b[0;34m,\u001b[0m \u001b[0maxis\u001b[0m\u001b[0;34m=\u001b[0m\u001b[0;36m1\u001b[0m\u001b[0;34m)\u001b[0m\u001b[0;34m\u001b[0m\u001b[0;34m\u001b[0m\u001b[0m\n\u001b[0m\u001b[1;32m      4\u001b[0m \u001b[0;34m\u001b[0m\u001b[0m\n\u001b[1;32m      5\u001b[0m \u001b[0;31m# Removing null rows\u001b[0m\u001b[0;34m\u001b[0m\u001b[0;34m\u001b[0m\u001b[0;34m\u001b[0m\u001b[0m\n",
      "\u001b[0;31mNameError\u001b[0m: name 'pitchfork_all' is not defined"
     ]
    }
   ],
   "source": [
    "# Removing unneeded columns\n",
    "drop = ['reviewed_artist', 'author_type', 'url', 'pub_weekday', 'pub_day', 'pub_month', 'pub_year']\n",
    "pitchfork = pitchfork_all.drop(drop, axis=1)\n",
    "\n",
    "# Removing null rows\n",
    "pitchfork = pitchfork[~pitchfork[\"genre\"].isnull()]\n",
    "pitchfork = pitchfork[~pitchfork[\"artist\"].isnull()]\n",
    "pitchfork = pitchfork[~pitchfork[\"year\"].isnull()]\n",
    "\n",
    "# Converting dataypes\n",
    "pitchfork[['year']] = pitchfork[['year']].astype('int64')\n",
    "pitchfork[['pub_date']] = pitchfork[['pub_date']].astype('datetime64')\n",
    "\n",
    "pitchfork.head()\n",
    "#pitchfork.sort_values(\"genre\", ascending = False)"
   ]
  },
  {
   "cell_type": "markdown",
   "metadata": {},
   "source": [
    "# EXPORT"
   ]
  },
  {
   "cell_type": "code",
   "execution_count": 4,
   "metadata": {},
   "outputs": [
    {
     "ename": "NameError",
     "evalue": "name 'pitchfork' is not defined",
     "output_type": "error",
     "traceback": [
      "\u001b[0;31m---------------------------------------------------------------------------\u001b[0m",
      "\u001b[0;31mNameError\u001b[0m                                 Traceback (most recent call last)",
      "\u001b[0;32m<ipython-input-4-30d175c7affe>\u001b[0m in \u001b[0;36m<module>\u001b[0;34m\u001b[0m\n\u001b[0;32m----> 1\u001b[0;31m \u001b[0mpitchfork\u001b[0m\u001b[0;34m.\u001b[0m\u001b[0mto_csv\u001b[0m\u001b[0;34m(\u001b[0m\u001b[0;34m'pitchfork.csv'\u001b[0m\u001b[0;34m,\u001b[0m \u001b[0mindex\u001b[0m\u001b[0;34m=\u001b[0m\u001b[0;32mFalse\u001b[0m\u001b[0;34m)\u001b[0m\u001b[0;34m\u001b[0m\u001b[0;34m\u001b[0m\u001b[0m\n\u001b[0m",
      "\u001b[0;31mNameError\u001b[0m: name 'pitchfork' is not defined"
     ]
    }
   ],
   "source": [
    "pitchfork.to_csv('pitchfork.csv', index=False)"
   ]
  },
  {
   "cell_type": "markdown",
   "metadata": {},
   "source": [
    "# IMPORT - Remember to unzip the data file first!"
   ]
  },
  {
   "cell_type": "code",
   "execution_count": 11,
   "metadata": {},
   "outputs": [
    {
     "data": {
      "text/html": [
       "<div>\n",
       "<style scoped>\n",
       "    .dataframe tbody tr th:only-of-type {\n",
       "        vertical-align: middle;\n",
       "    }\n",
       "\n",
       "    .dataframe tbody tr th {\n",
       "        vertical-align: top;\n",
       "    }\n",
       "\n",
       "    .dataframe thead th {\n",
       "        text-align: right;\n",
       "    }\n",
       "</style>\n",
       "<table border=\"1\" class=\"dataframe\">\n",
       "  <thead>\n",
       "    <tr style=\"text-align: right;\">\n",
       "      <th></th>\n",
       "      <th>id</th>\n",
       "      <th>artist</th>\n",
       "      <th>content</th>\n",
       "      <th>genre</th>\n",
       "      <th>label</th>\n",
       "      <th>album</th>\n",
       "      <th>score</th>\n",
       "      <th>best_new_music</th>\n",
       "      <th>author</th>\n",
       "      <th>pub_date</th>\n",
       "      <th>year</th>\n",
       "    </tr>\n",
       "  </thead>\n",
       "  <tbody>\n",
       "    <tr>\n",
       "      <td>0</td>\n",
       "      <td>22703</td>\n",
       "      <td>massive attack</td>\n",
       "      <td>“Trip-hop” eventually became a ’90s punchline,...</td>\n",
       "      <td>electronic</td>\n",
       "      <td>virgin</td>\n",
       "      <td>mezzanine</td>\n",
       "      <td>9.3</td>\n",
       "      <td>0</td>\n",
       "      <td>nate patrin</td>\n",
       "      <td>2017-01-08</td>\n",
       "      <td>1998</td>\n",
       "    </tr>\n",
       "    <tr>\n",
       "      <td>1</td>\n",
       "      <td>22721</td>\n",
       "      <td>krallice</td>\n",
       "      <td>Eight years, five albums, and two EPs in, the ...</td>\n",
       "      <td>metal</td>\n",
       "      <td>hathenter</td>\n",
       "      <td>prelapsarian</td>\n",
       "      <td>7.9</td>\n",
       "      <td>0</td>\n",
       "      <td>zoe camp</td>\n",
       "      <td>2017-01-07</td>\n",
       "      <td>2016</td>\n",
       "    </tr>\n",
       "    <tr>\n",
       "      <td>2</td>\n",
       "      <td>22659</td>\n",
       "      <td>uranium club</td>\n",
       "      <td>Minneapolis’ Uranium Club seem to revel in bei...</td>\n",
       "      <td>rock</td>\n",
       "      <td>static shock</td>\n",
       "      <td>all of them naturals</td>\n",
       "      <td>7.3</td>\n",
       "      <td>0</td>\n",
       "      <td>david glickman</td>\n",
       "      <td>2017-01-07</td>\n",
       "      <td>2016</td>\n",
       "    </tr>\n",
       "    <tr>\n",
       "      <td>3</td>\n",
       "      <td>22659</td>\n",
       "      <td>uranium club</td>\n",
       "      <td>Minneapolis’ Uranium Club seem to revel in bei...</td>\n",
       "      <td>rock</td>\n",
       "      <td>fashionable idiots</td>\n",
       "      <td>all of them naturals</td>\n",
       "      <td>7.3</td>\n",
       "      <td>0</td>\n",
       "      <td>david glickman</td>\n",
       "      <td>2017-01-07</td>\n",
       "      <td>2016</td>\n",
       "    </tr>\n",
       "    <tr>\n",
       "      <td>4</td>\n",
       "      <td>22661</td>\n",
       "      <td>kleenex</td>\n",
       "      <td>Kleenex began with a crash. It transpired one ...</td>\n",
       "      <td>rock</td>\n",
       "      <td>kill rock stars</td>\n",
       "      <td>first songs</td>\n",
       "      <td>9.0</td>\n",
       "      <td>1</td>\n",
       "      <td>jenn pelly</td>\n",
       "      <td>2017-01-06</td>\n",
       "      <td>2016</td>\n",
       "    </tr>\n",
       "  </tbody>\n",
       "</table>\n",
       "</div>"
      ],
      "text/plain": [
       "      id          artist                                            content  \\\n",
       "0  22703  massive attack  “Trip-hop” eventually became a ’90s punchline,...   \n",
       "1  22721        krallice  Eight years, five albums, and two EPs in, the ...   \n",
       "2  22659    uranium club  Minneapolis’ Uranium Club seem to revel in bei...   \n",
       "3  22659    uranium club  Minneapolis’ Uranium Club seem to revel in bei...   \n",
       "4  22661         kleenex  Kleenex began with a crash. It transpired one ...   \n",
       "\n",
       "        genre               label                 album  score  \\\n",
       "0  electronic              virgin             mezzanine    9.3   \n",
       "1       metal           hathenter          prelapsarian    7.9   \n",
       "2        rock        static shock  all of them naturals    7.3   \n",
       "3        rock  fashionable idiots  all of them naturals    7.3   \n",
       "4        rock     kill rock stars           first songs    9.0   \n",
       "\n",
       "   best_new_music          author    pub_date  year  \n",
       "0               0     nate patrin  2017-01-08  1998  \n",
       "1               0        zoe camp  2017-01-07  2016  \n",
       "2               0  david glickman  2017-01-07  2016  \n",
       "3               0  david glickman  2017-01-07  2016  \n",
       "4               1      jenn pelly  2017-01-06  2016  "
      ]
     },
     "execution_count": 11,
     "metadata": {},
     "output_type": "execute_result"
    }
   ],
   "source": [
    "# I suggest copying from below into a new notebook to make it easier to merge later.\n",
    "\n",
    "pitchfork = pd.read_csv('pitchfork.csv')\n",
    "pitchfork.head()"
   ]
  },
  {
   "cell_type": "code",
   "execution_count": null,
   "metadata": {},
   "outputs": [],
   "source": []
  }
 ],
 "metadata": {
  "kernelspec": {
   "display_name": "Python 3",
   "language": "python",
   "name": "python3"
  },
  "language_info": {
   "codemirror_mode": {
    "name": "ipython",
    "version": 3
   },
   "file_extension": ".py",
   "mimetype": "text/x-python",
   "name": "python",
   "nbconvert_exporter": "python",
   "pygments_lexer": "ipython3",
   "version": "3.7.4"
  }
 },
 "nbformat": 4,
 "nbformat_minor": 2
}
